{
 "cells": [
  {
   "cell_type": "markdown",
   "id": "0f7498f3-c7d0-4273-aecc-fc71393eaa65",
   "metadata": {},
   "source": [
    "# Necessry Libray -- "
   ]
  },
  {
   "cell_type": "code",
   "execution_count": 1,
   "id": "70569aa8-8650-4f2c-a459-c980386fd79b",
   "metadata": {},
   "outputs": [],
   "source": [
    "import pandas as pd\n",
    "import numpy as np"
   ]
  },
  {
   "cell_type": "markdown",
   "id": "842ab2b3-73ce-4fa1-8e0e-4495d3a1ab4c",
   "metadata": {},
   "source": [
    "# Read Data -- "
   ]
  },
  {
   "cell_type": "code",
   "execution_count": 2,
   "id": "1f754e3d-0a15-4442-8822-1c40fa881022",
   "metadata": {},
   "outputs": [],
   "source": [
    "df = pd.read_csv('insurance.csv')"
   ]
  },
  {
   "cell_type": "code",
   "execution_count": 3,
   "id": "856e1406-75ba-426d-877a-8ff83f00ef3b",
   "metadata": {},
   "outputs": [
    {
     "data": {
      "text/plain": [
       "age         0\n",
       "sex         0\n",
       "bmi         0\n",
       "children    0\n",
       "smoker      0\n",
       "region      0\n",
       "charges     0\n",
       "dtype: int64"
      ]
     },
     "execution_count": 3,
     "metadata": {},
     "output_type": "execute_result"
    }
   ],
   "source": [
    "df.isnull().sum()"
   ]
  },
  {
   "cell_type": "markdown",
   "id": "f875832a-a37b-4778-8776-aaea851c2dbb",
   "metadata": {},
   "source": [
    "# Data Clening Process -- "
   ]
  },
  {
   "cell_type": "code",
   "execution_count": 4,
   "id": "2284ea56-baa1-42af-b6d0-b854c1549c5f",
   "metadata": {},
   "outputs": [
    {
     "data": {
      "text/plain": [
       "np.int64(1)"
      ]
     },
     "execution_count": 4,
     "metadata": {},
     "output_type": "execute_result"
    }
   ],
   "source": [
    "df.duplicated().sum()"
   ]
  },
  {
   "cell_type": "code",
   "execution_count": 5,
   "id": "6bd165fe-fbbb-47e0-9be4-dee5c306e1bd",
   "metadata": {},
   "outputs": [],
   "source": [
    "df.drop_duplicates(inplace=True)"
   ]
  },
  {
   "cell_type": "code",
   "execution_count": 6,
   "id": "dbbfad56-00ce-4057-8cdb-330c82e5e3fa",
   "metadata": {},
   "outputs": [
    {
     "data": {
      "text/plain": [
       "1337"
      ]
     },
     "execution_count": 6,
     "metadata": {},
     "output_type": "execute_result"
    }
   ],
   "source": [
    "len(df)"
   ]
  },
  {
   "cell_type": "markdown",
   "id": "289ae26e-13af-4eeb-93c6-d2f2a72c318f",
   "metadata": {},
   "source": [
    "# Data Transformation(Lable En-coding ) -- "
   ]
  },
  {
   "cell_type": "code",
   "execution_count": 7,
   "id": "d0fd54be-960e-4925-8cb2-4de4b0a2bf93",
   "metadata": {},
   "outputs": [],
   "source": [
    "df['smoker'] = df['smoker'].map({'yes':1,'no':0}) "
   ]
  },
  {
   "cell_type": "code",
   "execution_count": 8,
   "id": "c77abbd7-f0fb-47c0-a5ce-e87d2c1f4dbc",
   "metadata": {},
   "outputs": [],
   "source": [
    "df['region'] = df['region'].map({'southwest':0,'southeast':1,'northwest': 2,'northeast':3})"
   ]
  },
  {
   "cell_type": "code",
   "execution_count": 9,
   "id": "bad99020-2cbe-4f24-8b14-8bcb8ae11ff9",
   "metadata": {},
   "outputs": [],
   "source": [
    "df['sex'] = df['sex'].map({'male':1,'female':0})"
   ]
  },
  {
   "cell_type": "code",
   "execution_count": 10,
   "id": "56c2e90d-48f6-4e69-8dba-bd13b1989bb0",
   "metadata": {},
   "outputs": [
    {
     "name": "stdout",
     "output_type": "stream",
     "text": [
      "<class 'pandas.core.frame.DataFrame'>\n",
      "Index: 1337 entries, 0 to 1337\n",
      "Data columns (total 7 columns):\n",
      " #   Column    Non-Null Count  Dtype  \n",
      "---  ------    --------------  -----  \n",
      " 0   age       1337 non-null   int64  \n",
      " 1   sex       1337 non-null   int64  \n",
      " 2   bmi       1337 non-null   float64\n",
      " 3   children  1337 non-null   int64  \n",
      " 4   smoker    1337 non-null   int64  \n",
      " 5   region    1337 non-null   int64  \n",
      " 6   charges   1337 non-null   float64\n",
      "dtypes: float64(2), int64(5)\n",
      "memory usage: 83.6 KB\n"
     ]
    }
   ],
   "source": [
    "df.info()"
   ]
  },
  {
   "cell_type": "markdown",
   "id": "09059048-e0fb-47ec-a707-a2403c9dc378",
   "metadata": {},
   "source": [
    "# Checking - Co - Relation -- "
   ]
  },
  {
   "cell_type": "code",
   "execution_count": 11,
   "id": "be185c40-4bbe-47a3-a95c-b972d1eec375",
   "metadata": {},
   "outputs": [
    {
     "data": {
      "text/html": [
       "<div>\n",
       "<style scoped>\n",
       "    .dataframe tbody tr th:only-of-type {\n",
       "        vertical-align: middle;\n",
       "    }\n",
       "\n",
       "    .dataframe tbody tr th {\n",
       "        vertical-align: top;\n",
       "    }\n",
       "\n",
       "    .dataframe thead th {\n",
       "        text-align: right;\n",
       "    }\n",
       "</style>\n",
       "<table border=\"1\" class=\"dataframe\">\n",
       "  <thead>\n",
       "    <tr style=\"text-align: right;\">\n",
       "      <th></th>\n",
       "      <th>age</th>\n",
       "      <th>sex</th>\n",
       "      <th>bmi</th>\n",
       "      <th>children</th>\n",
       "      <th>smoker</th>\n",
       "      <th>region</th>\n",
       "      <th>charges</th>\n",
       "    </tr>\n",
       "  </thead>\n",
       "  <tbody>\n",
       "    <tr>\n",
       "      <th>age</th>\n",
       "      <td>1.000000</td>\n",
       "      <td>-0.019814</td>\n",
       "      <td>0.109344</td>\n",
       "      <td>0.041536</td>\n",
       "      <td>-0.025587</td>\n",
       "      <td>-0.001626</td>\n",
       "      <td>0.298308</td>\n",
       "    </tr>\n",
       "    <tr>\n",
       "      <th>sex</th>\n",
       "      <td>-0.019814</td>\n",
       "      <td>1.000000</td>\n",
       "      <td>0.046397</td>\n",
       "      <td>0.017848</td>\n",
       "      <td>0.076596</td>\n",
       "      <td>-0.004936</td>\n",
       "      <td>0.058044</td>\n",
       "    </tr>\n",
       "    <tr>\n",
       "      <th>bmi</th>\n",
       "      <td>0.109344</td>\n",
       "      <td>0.046397</td>\n",
       "      <td>1.000000</td>\n",
       "      <td>0.012755</td>\n",
       "      <td>0.003746</td>\n",
       "      <td>-0.157574</td>\n",
       "      <td>0.198401</td>\n",
       "    </tr>\n",
       "    <tr>\n",
       "      <th>children</th>\n",
       "      <td>0.041536</td>\n",
       "      <td>0.017848</td>\n",
       "      <td>0.012755</td>\n",
       "      <td>1.000000</td>\n",
       "      <td>0.007331</td>\n",
       "      <td>-0.016258</td>\n",
       "      <td>0.067389</td>\n",
       "    </tr>\n",
       "    <tr>\n",
       "      <th>smoker</th>\n",
       "      <td>-0.025587</td>\n",
       "      <td>0.076596</td>\n",
       "      <td>0.003746</td>\n",
       "      <td>0.007331</td>\n",
       "      <td>1.000000</td>\n",
       "      <td>0.002358</td>\n",
       "      <td>0.787234</td>\n",
       "    </tr>\n",
       "    <tr>\n",
       "      <th>region</th>\n",
       "      <td>-0.001626</td>\n",
       "      <td>-0.004936</td>\n",
       "      <td>-0.157574</td>\n",
       "      <td>-0.016258</td>\n",
       "      <td>0.002358</td>\n",
       "      <td>1.000000</td>\n",
       "      <td>0.006547</td>\n",
       "    </tr>\n",
       "    <tr>\n",
       "      <th>charges</th>\n",
       "      <td>0.298308</td>\n",
       "      <td>0.058044</td>\n",
       "      <td>0.198401</td>\n",
       "      <td>0.067389</td>\n",
       "      <td>0.787234</td>\n",
       "      <td>0.006547</td>\n",
       "      <td>1.000000</td>\n",
       "    </tr>\n",
       "  </tbody>\n",
       "</table>\n",
       "</div>"
      ],
      "text/plain": [
       "               age       sex       bmi  children    smoker    region   charges\n",
       "age       1.000000 -0.019814  0.109344  0.041536 -0.025587 -0.001626  0.298308\n",
       "sex      -0.019814  1.000000  0.046397  0.017848  0.076596 -0.004936  0.058044\n",
       "bmi       0.109344  0.046397  1.000000  0.012755  0.003746 -0.157574  0.198401\n",
       "children  0.041536  0.017848  0.012755  1.000000  0.007331 -0.016258  0.067389\n",
       "smoker   -0.025587  0.076596  0.003746  0.007331  1.000000  0.002358  0.787234\n",
       "region   -0.001626 -0.004936 -0.157574 -0.016258  0.002358  1.000000  0.006547\n",
       "charges   0.298308  0.058044  0.198401  0.067389  0.787234  0.006547  1.000000"
      ]
     },
     "execution_count": 11,
     "metadata": {},
     "output_type": "execute_result"
    }
   ],
   "source": [
    "df.corr()"
   ]
  },
  {
   "cell_type": "markdown",
   "id": "e462b1e5-b2cd-4faa-8153-efb618e0f31a",
   "metadata": {},
   "source": [
    "# Drop Column Not Colretated to Feature  -- "
   ]
  },
  {
   "cell_type": "code",
   "execution_count": 12,
   "id": "25449e82-83b9-4ab9-9fe5-5129fcfc9e37",
   "metadata": {},
   "outputs": [],
   "source": [
    "df.drop(columns='region',inplace=True)"
   ]
  },
  {
   "cell_type": "code",
   "execution_count": 13,
   "id": "ad6ed54f-58db-4a5c-891d-cbd8b3e5a61b",
   "metadata": {},
   "outputs": [],
   "source": [
    "# df"
   ]
  },
  {
   "cell_type": "markdown",
   "id": "79761c81-a614-4cc4-a161-15ad6647e9e9",
   "metadata": {},
   "source": [
    "# Data Type Coasting -- "
   ]
  },
  {
   "cell_type": "code",
   "execution_count": 14,
   "id": "5a9d773a-32b7-458e-acbb-982df71f20eb",
   "metadata": {},
   "outputs": [],
   "source": [
    "df['smoker'] = df['smoker'].astype('int')"
   ]
  },
  {
   "cell_type": "code",
   "execution_count": 15,
   "id": "259a0e48-2b1f-4738-93d9-86f28ca9ead4",
   "metadata": {},
   "outputs": [],
   "source": [
    "# df.info()"
   ]
  },
  {
   "cell_type": "markdown",
   "id": "320daec7-d785-48b1-81f2-0a92111bab2d",
   "metadata": {},
   "source": [
    "# Apply Statistics Method to Remove Unwanted Data or Outliers -- "
   ]
  },
  {
   "cell_type": "code",
   "execution_count": 16,
   "id": "4cdff471-b9cb-410b-8f2b-3428b13c0ced",
   "metadata": {},
   "outputs": [],
   "source": [
    "q1 = df.quantile(0.25,numeric_only=True)"
   ]
  },
  {
   "cell_type": "code",
   "execution_count": 17,
   "id": "a77cece7-fa99-41fb-92a2-9924b7f36ba2",
   "metadata": {},
   "outputs": [],
   "source": [
    "q3 = df.quantile(0.75,numeric_only=True)"
   ]
  },
  {
   "cell_type": "code",
   "execution_count": 18,
   "id": "51705d12-c8a8-4a81-b2dd-7800a1a473f5",
   "metadata": {},
   "outputs": [],
   "source": [
    "IQR = q3 - q1"
   ]
  },
  {
   "cell_type": "code",
   "execution_count": 19,
   "id": "1dfdb5f4-fd29-45a5-bfae-c5b6c7fe3ff8",
   "metadata": {},
   "outputs": [],
   "source": [
    "lower_fence = q1-(1.5*IQR)"
   ]
  },
  {
   "cell_type": "code",
   "execution_count": 20,
   "id": "9c16b974-abc2-4f6b-b6ce-906fc3ecbeaa",
   "metadata": {},
   "outputs": [
    {
     "data": {
      "text/plain": [
       "age            -9.000000\n",
       "sex            -1.500000\n",
       "bmi            13.675000\n",
       "children       -3.000000\n",
       "smoker          0.000000\n",
       "charges    -13120.716175\n",
       "dtype: float64"
      ]
     },
     "execution_count": 20,
     "metadata": {},
     "output_type": "execute_result"
    }
   ],
   "source": [
    "lower_fence"
   ]
  },
  {
   "cell_type": "code",
   "execution_count": 21,
   "id": "343d402f-a760-466f-a4a0-d8244d1be01a",
   "metadata": {},
   "outputs": [],
   "source": [
    "upper_fence = q3+(1.5*IQR)"
   ]
  },
  {
   "cell_type": "code",
   "execution_count": 22,
   "id": "961c9961-278e-4fc1-b999-6083c5abb362",
   "metadata": {},
   "outputs": [
    {
     "data": {
      "text/plain": [
       "age            87.000000\n",
       "sex             2.500000\n",
       "bmi            47.315000\n",
       "children        5.000000\n",
       "smoker          0.000000\n",
       "charges     34524.777625\n",
       "dtype: float64"
      ]
     },
     "execution_count": 22,
     "metadata": {},
     "output_type": "execute_result"
    }
   ],
   "source": [
    "upper_fence"
   ]
  },
  {
   "cell_type": "markdown",
   "id": "ff293f10-f0fc-4042-b318-be9d9f5126b1",
   "metadata": {},
   "source": [
    "# Removing Outliers --"
   ]
  },
  {
   "cell_type": "code",
   "execution_count": 23,
   "id": "da0cebbb-85cc-41e9-baa2-b72644b3214c",
   "metadata": {},
   "outputs": [],
   "source": [
    "clean_data  = df[\n",
    "    (df['age'] > -9) & (df['age'] < 87) &\n",
    "    (df['sex'] > -1) & (df['sex'] < 2) &\n",
    "    (df['bmi'] > 13) & (df['bmi'] < 47) &\n",
    "    (df['children'] > -3) & (df['children'] < 5) &\n",
    "    (df['smoker'] > -1) & (df['smoker'] < 2) &\n",
    "    (df['charges'] > -13120.71) & (df['charges'] < 34524.77)\n",
    "]"
   ]
  },
  {
   "cell_type": "markdown",
   "id": "7dc4bd22-469d-40b8-96be-d0a8e1ae673e",
   "metadata": {},
   "source": [
    "# Feature Of Engineering -- "
   ]
  },
  {
   "cell_type": "code",
   "execution_count": 24,
   "id": "1aeaf352-6222-491d-955e-9ed8d36edc8d",
   "metadata": {},
   "outputs": [],
   "source": [
    "# clean_data"
   ]
  },
  {
   "cell_type": "code",
   "execution_count": 25,
   "id": "2bde2872-38dd-4efa-b94e-ca8b835d97b0",
   "metadata": {},
   "outputs": [],
   "source": [
    "# clean_data.describe()"
   ]
  },
  {
   "cell_type": "code",
   "execution_count": 26,
   "id": "86636dec-12e8-4d62-a589-7164354711f2",
   "metadata": {},
   "outputs": [],
   "source": [
    "def bmi_converter(x):\n",
    "    if x > 0 and  x <= 18 :\n",
    "        return 'Under_Weight'\n",
    "    elif x > 18 and x <= 24:\n",
    "        return 'Normal'\n",
    "    elif x > 24 and x <= 29:\n",
    "        return 'over_weight'\n",
    "    else:\n",
    "        return 'obase'"
   ]
  },
  {
   "cell_type": "code",
   "execution_count": 27,
   "id": "23f148cd-7677-4cb8-bf1b-05946c0fdd46",
   "metadata": {},
   "outputs": [],
   "source": [
    "df['BMI_Category'] = df['bmi'].apply(bmi_converter)"
   ]
  },
  {
   "cell_type": "code",
   "execution_count": 28,
   "id": "39ad8bc4-7ace-4e52-b4f5-6bf8a2cd799c",
   "metadata": {},
   "outputs": [
    {
     "data": {
      "text/html": [
       "<div>\n",
       "<style scoped>\n",
       "    .dataframe tbody tr th:only-of-type {\n",
       "        vertical-align: middle;\n",
       "    }\n",
       "\n",
       "    .dataframe tbody tr th {\n",
       "        vertical-align: top;\n",
       "    }\n",
       "\n",
       "    .dataframe thead th {\n",
       "        text-align: right;\n",
       "    }\n",
       "</style>\n",
       "<table border=\"1\" class=\"dataframe\">\n",
       "  <thead>\n",
       "    <tr style=\"text-align: right;\">\n",
       "      <th></th>\n",
       "      <th>age</th>\n",
       "      <th>sex</th>\n",
       "      <th>bmi</th>\n",
       "      <th>children</th>\n",
       "      <th>smoker</th>\n",
       "      <th>charges</th>\n",
       "    </tr>\n",
       "  </thead>\n",
       "  <tbody>\n",
       "    <tr>\n",
       "      <th>count</th>\n",
       "      <td>1337.000000</td>\n",
       "      <td>1337.000000</td>\n",
       "      <td>1337.000000</td>\n",
       "      <td>1337.000000</td>\n",
       "      <td>1337.000000</td>\n",
       "      <td>1337.000000</td>\n",
       "    </tr>\n",
       "    <tr>\n",
       "      <th>mean</th>\n",
       "      <td>39.222139</td>\n",
       "      <td>0.504862</td>\n",
       "      <td>30.663452</td>\n",
       "      <td>1.095737</td>\n",
       "      <td>0.204936</td>\n",
       "      <td>13279.121487</td>\n",
       "    </tr>\n",
       "    <tr>\n",
       "      <th>std</th>\n",
       "      <td>14.044333</td>\n",
       "      <td>0.500163</td>\n",
       "      <td>6.100468</td>\n",
       "      <td>1.205571</td>\n",
       "      <td>0.403806</td>\n",
       "      <td>12110.359656</td>\n",
       "    </tr>\n",
       "    <tr>\n",
       "      <th>min</th>\n",
       "      <td>18.000000</td>\n",
       "      <td>0.000000</td>\n",
       "      <td>15.960000</td>\n",
       "      <td>0.000000</td>\n",
       "      <td>0.000000</td>\n",
       "      <td>1121.873900</td>\n",
       "    </tr>\n",
       "    <tr>\n",
       "      <th>25%</th>\n",
       "      <td>27.000000</td>\n",
       "      <td>0.000000</td>\n",
       "      <td>26.290000</td>\n",
       "      <td>0.000000</td>\n",
       "      <td>0.000000</td>\n",
       "      <td>4746.344000</td>\n",
       "    </tr>\n",
       "    <tr>\n",
       "      <th>50%</th>\n",
       "      <td>39.000000</td>\n",
       "      <td>1.000000</td>\n",
       "      <td>30.400000</td>\n",
       "      <td>1.000000</td>\n",
       "      <td>0.000000</td>\n",
       "      <td>9386.161300</td>\n",
       "    </tr>\n",
       "    <tr>\n",
       "      <th>75%</th>\n",
       "      <td>51.000000</td>\n",
       "      <td>1.000000</td>\n",
       "      <td>34.700000</td>\n",
       "      <td>2.000000</td>\n",
       "      <td>0.000000</td>\n",
       "      <td>16657.717450</td>\n",
       "    </tr>\n",
       "    <tr>\n",
       "      <th>max</th>\n",
       "      <td>64.000000</td>\n",
       "      <td>1.000000</td>\n",
       "      <td>53.130000</td>\n",
       "      <td>5.000000</td>\n",
       "      <td>1.000000</td>\n",
       "      <td>63770.428010</td>\n",
       "    </tr>\n",
       "  </tbody>\n",
       "</table>\n",
       "</div>"
      ],
      "text/plain": [
       "               age          sex          bmi     children       smoker  \\\n",
       "count  1337.000000  1337.000000  1337.000000  1337.000000  1337.000000   \n",
       "mean     39.222139     0.504862    30.663452     1.095737     0.204936   \n",
       "std      14.044333     0.500163     6.100468     1.205571     0.403806   \n",
       "min      18.000000     0.000000    15.960000     0.000000     0.000000   \n",
       "25%      27.000000     0.000000    26.290000     0.000000     0.000000   \n",
       "50%      39.000000     1.000000    30.400000     1.000000     0.000000   \n",
       "75%      51.000000     1.000000    34.700000     2.000000     0.000000   \n",
       "max      64.000000     1.000000    53.130000     5.000000     1.000000   \n",
       "\n",
       "            charges  \n",
       "count   1337.000000  \n",
       "mean   13279.121487  \n",
       "std    12110.359656  \n",
       "min     1121.873900  \n",
       "25%     4746.344000  \n",
       "50%     9386.161300  \n",
       "75%    16657.717450  \n",
       "max    63770.428010  "
      ]
     },
     "execution_count": 28,
     "metadata": {},
     "output_type": "execute_result"
    }
   ],
   "source": [
    "df.describe()"
   ]
  },
  {
   "cell_type": "markdown",
   "id": "9f90a195-a577-48da-a1da-aa95a5e065dd",
   "metadata": {},
   "source": [
    "# Apply One hot Encoding --"
   ]
  },
  {
   "cell_type": "code",
   "execution_count": 29,
   "id": "b4bdcfb4-7177-4b9f-997d-cfd94278c756",
   "metadata": {},
   "outputs": [
    {
     "data": {
      "text/html": [
       "<div>\n",
       "<style scoped>\n",
       "    .dataframe tbody tr th:only-of-type {\n",
       "        vertical-align: middle;\n",
       "    }\n",
       "\n",
       "    .dataframe tbody tr th {\n",
       "        vertical-align: top;\n",
       "    }\n",
       "\n",
       "    .dataframe thead th {\n",
       "        text-align: right;\n",
       "    }\n",
       "</style>\n",
       "<table border=\"1\" class=\"dataframe\">\n",
       "  <thead>\n",
       "    <tr style=\"text-align: right;\">\n",
       "      <th></th>\n",
       "      <th>age</th>\n",
       "      <th>sex</th>\n",
       "      <th>bmi</th>\n",
       "      <th>children</th>\n",
       "      <th>smoker</th>\n",
       "      <th>charges</th>\n",
       "      <th>BMI_Category</th>\n",
       "    </tr>\n",
       "  </thead>\n",
       "  <tbody>\n",
       "    <tr>\n",
       "      <th>0</th>\n",
       "      <td>19</td>\n",
       "      <td>0</td>\n",
       "      <td>27.90</td>\n",
       "      <td>0</td>\n",
       "      <td>1</td>\n",
       "      <td>16884.9240</td>\n",
       "      <td>over_weight</td>\n",
       "    </tr>\n",
       "    <tr>\n",
       "      <th>1</th>\n",
       "      <td>18</td>\n",
       "      <td>1</td>\n",
       "      <td>33.77</td>\n",
       "      <td>1</td>\n",
       "      <td>0</td>\n",
       "      <td>1725.5523</td>\n",
       "      <td>obase</td>\n",
       "    </tr>\n",
       "  </tbody>\n",
       "</table>\n",
       "</div>"
      ],
      "text/plain": [
       "   age  sex    bmi  children  smoker     charges BMI_Category\n",
       "0   19    0  27.90         0       1  16884.9240  over_weight\n",
       "1   18    1  33.77         1       0   1725.5523        obase"
      ]
     },
     "execution_count": 29,
     "metadata": {},
     "output_type": "execute_result"
    }
   ],
   "source": [
    "df.head(2)"
   ]
  },
  {
   "cell_type": "code",
   "execution_count": 30,
   "id": "d84beb87-7797-436d-99fa-8258b6f83f6d",
   "metadata": {},
   "outputs": [
    {
     "data": {
      "text/plain": [
       "array(['over_weight', 'obase', 'Normal', 'Under_Weight'], dtype=object)"
      ]
     },
     "execution_count": 30,
     "metadata": {},
     "output_type": "execute_result"
    }
   ],
   "source": [
    "df['BMI_Category'].unique()"
   ]
  },
  {
   "cell_type": "code",
   "execution_count": 31,
   "id": "c6420d64-ed0d-43f2-a6e2-5396a60cee5d",
   "metadata": {},
   "outputs": [
    {
     "data": {
      "text/html": [
       "<div>\n",
       "<style scoped>\n",
       "    .dataframe tbody tr th:only-of-type {\n",
       "        vertical-align: middle;\n",
       "    }\n",
       "\n",
       "    .dataframe tbody tr th {\n",
       "        vertical-align: top;\n",
       "    }\n",
       "\n",
       "    .dataframe thead th {\n",
       "        text-align: right;\n",
       "    }\n",
       "</style>\n",
       "<table border=\"1\" class=\"dataframe\">\n",
       "  <thead>\n",
       "    <tr style=\"text-align: right;\">\n",
       "      <th></th>\n",
       "      <th>age</th>\n",
       "      <th>sex</th>\n",
       "      <th>bmi</th>\n",
       "      <th>children</th>\n",
       "      <th>smoker</th>\n",
       "      <th>charges</th>\n",
       "      <th>BMI_Category</th>\n",
       "      <th>BMI_Normal</th>\n",
       "      <th>BMI_Under_Weight</th>\n",
       "      <th>BMI_obase</th>\n",
       "      <th>BMI_over_weight</th>\n",
       "    </tr>\n",
       "  </thead>\n",
       "  <tbody>\n",
       "    <tr>\n",
       "      <th>0</th>\n",
       "      <td>19</td>\n",
       "      <td>0</td>\n",
       "      <td>27.900</td>\n",
       "      <td>0</td>\n",
       "      <td>1</td>\n",
       "      <td>16884.92400</td>\n",
       "      <td>over_weight</td>\n",
       "      <td>0</td>\n",
       "      <td>0</td>\n",
       "      <td>0</td>\n",
       "      <td>1</td>\n",
       "    </tr>\n",
       "    <tr>\n",
       "      <th>1</th>\n",
       "      <td>18</td>\n",
       "      <td>1</td>\n",
       "      <td>33.770</td>\n",
       "      <td>1</td>\n",
       "      <td>0</td>\n",
       "      <td>1725.55230</td>\n",
       "      <td>obase</td>\n",
       "      <td>0</td>\n",
       "      <td>0</td>\n",
       "      <td>1</td>\n",
       "      <td>0</td>\n",
       "    </tr>\n",
       "    <tr>\n",
       "      <th>2</th>\n",
       "      <td>28</td>\n",
       "      <td>1</td>\n",
       "      <td>33.000</td>\n",
       "      <td>3</td>\n",
       "      <td>0</td>\n",
       "      <td>4449.46200</td>\n",
       "      <td>obase</td>\n",
       "      <td>0</td>\n",
       "      <td>0</td>\n",
       "      <td>1</td>\n",
       "      <td>0</td>\n",
       "    </tr>\n",
       "    <tr>\n",
       "      <th>3</th>\n",
       "      <td>33</td>\n",
       "      <td>1</td>\n",
       "      <td>22.705</td>\n",
       "      <td>0</td>\n",
       "      <td>0</td>\n",
       "      <td>21984.47061</td>\n",
       "      <td>Normal</td>\n",
       "      <td>1</td>\n",
       "      <td>0</td>\n",
       "      <td>0</td>\n",
       "      <td>0</td>\n",
       "    </tr>\n",
       "    <tr>\n",
       "      <th>4</th>\n",
       "      <td>32</td>\n",
       "      <td>1</td>\n",
       "      <td>28.880</td>\n",
       "      <td>0</td>\n",
       "      <td>0</td>\n",
       "      <td>3866.85520</td>\n",
       "      <td>over_weight</td>\n",
       "      <td>0</td>\n",
       "      <td>0</td>\n",
       "      <td>0</td>\n",
       "      <td>1</td>\n",
       "    </tr>\n",
       "    <tr>\n",
       "      <th>...</th>\n",
       "      <td>...</td>\n",
       "      <td>...</td>\n",
       "      <td>...</td>\n",
       "      <td>...</td>\n",
       "      <td>...</td>\n",
       "      <td>...</td>\n",
       "      <td>...</td>\n",
       "      <td>...</td>\n",
       "      <td>...</td>\n",
       "      <td>...</td>\n",
       "      <td>...</td>\n",
       "    </tr>\n",
       "    <tr>\n",
       "      <th>1333</th>\n",
       "      <td>50</td>\n",
       "      <td>1</td>\n",
       "      <td>30.970</td>\n",
       "      <td>3</td>\n",
       "      <td>0</td>\n",
       "      <td>10600.54830</td>\n",
       "      <td>obase</td>\n",
       "      <td>0</td>\n",
       "      <td>0</td>\n",
       "      <td>1</td>\n",
       "      <td>0</td>\n",
       "    </tr>\n",
       "    <tr>\n",
       "      <th>1334</th>\n",
       "      <td>18</td>\n",
       "      <td>0</td>\n",
       "      <td>31.920</td>\n",
       "      <td>0</td>\n",
       "      <td>0</td>\n",
       "      <td>2205.98080</td>\n",
       "      <td>obase</td>\n",
       "      <td>0</td>\n",
       "      <td>0</td>\n",
       "      <td>1</td>\n",
       "      <td>0</td>\n",
       "    </tr>\n",
       "    <tr>\n",
       "      <th>1335</th>\n",
       "      <td>18</td>\n",
       "      <td>0</td>\n",
       "      <td>36.850</td>\n",
       "      <td>0</td>\n",
       "      <td>0</td>\n",
       "      <td>1629.83350</td>\n",
       "      <td>obase</td>\n",
       "      <td>0</td>\n",
       "      <td>0</td>\n",
       "      <td>1</td>\n",
       "      <td>0</td>\n",
       "    </tr>\n",
       "    <tr>\n",
       "      <th>1336</th>\n",
       "      <td>21</td>\n",
       "      <td>0</td>\n",
       "      <td>25.800</td>\n",
       "      <td>0</td>\n",
       "      <td>0</td>\n",
       "      <td>2007.94500</td>\n",
       "      <td>over_weight</td>\n",
       "      <td>0</td>\n",
       "      <td>0</td>\n",
       "      <td>0</td>\n",
       "      <td>1</td>\n",
       "    </tr>\n",
       "    <tr>\n",
       "      <th>1337</th>\n",
       "      <td>61</td>\n",
       "      <td>0</td>\n",
       "      <td>29.070</td>\n",
       "      <td>0</td>\n",
       "      <td>1</td>\n",
       "      <td>29141.36030</td>\n",
       "      <td>obase</td>\n",
       "      <td>0</td>\n",
       "      <td>0</td>\n",
       "      <td>1</td>\n",
       "      <td>0</td>\n",
       "    </tr>\n",
       "  </tbody>\n",
       "</table>\n",
       "<p>1337 rows × 11 columns</p>\n",
       "</div>"
      ],
      "text/plain": [
       "      age  sex     bmi  children  smoker      charges BMI_Category  \\\n",
       "0      19    0  27.900         0       1  16884.92400  over_weight   \n",
       "1      18    1  33.770         1       0   1725.55230        obase   \n",
       "2      28    1  33.000         3       0   4449.46200        obase   \n",
       "3      33    1  22.705         0       0  21984.47061       Normal   \n",
       "4      32    1  28.880         0       0   3866.85520  over_weight   \n",
       "...   ...  ...     ...       ...     ...          ...          ...   \n",
       "1333   50    1  30.970         3       0  10600.54830        obase   \n",
       "1334   18    0  31.920         0       0   2205.98080        obase   \n",
       "1335   18    0  36.850         0       0   1629.83350        obase   \n",
       "1336   21    0  25.800         0       0   2007.94500  over_weight   \n",
       "1337   61    0  29.070         0       1  29141.36030        obase   \n",
       "\n",
       "      BMI_Normal  BMI_Under_Weight  BMI_obase  BMI_over_weight  \n",
       "0              0                 0          0                1  \n",
       "1              0                 0          1                0  \n",
       "2              0                 0          1                0  \n",
       "3              1                 0          0                0  \n",
       "4              0                 0          0                1  \n",
       "...          ...               ...        ...              ...  \n",
       "1333           0                 0          1                0  \n",
       "1334           0                 0          1                0  \n",
       "1335           0                 0          1                0  \n",
       "1336           0                 0          0                1  \n",
       "1337           0                 0          1                0  \n",
       "\n",
       "[1337 rows x 11 columns]"
      ]
     },
     "execution_count": 31,
     "metadata": {},
     "output_type": "execute_result"
    }
   ],
   "source": [
    "# One-hot encoding\n",
    "dummies = pd.get_dummies(df['BMI_Category'], prefix='BMI')\n",
    "\n",
    "# Convert True/False to 0/1 (agar bool aa raha ho)\n",
    "dummies = dummies.astype(int)\n",
    "\n",
    "# Add encoded columns to original df\n",
    "df = pd.concat([df, dummies], axis=1)\n",
    "df"
   ]
  },
  {
   "cell_type": "code",
   "execution_count": 32,
   "id": "1c74a96a-daf2-4182-b79b-ef61e24a07bc",
   "metadata": {},
   "outputs": [
    {
     "data": {
      "text/plain": [
       "(1337, 11)"
      ]
     },
     "execution_count": 32,
     "metadata": {},
     "output_type": "execute_result"
    }
   ],
   "source": [
    "df.shape"
   ]
  },
  {
   "cell_type": "code",
   "execution_count": 33,
   "id": "ad29a7b3-cae5-415c-91fd-b1c9144ad975",
   "metadata": {},
   "outputs": [],
   "source": [
    "df.drop(['BMI_Category'], axis=1, inplace=True)"
   ]
  },
  {
   "cell_type": "code",
   "execution_count": 34,
   "id": "64636734-9d37-49e0-94e3-a363071c7a4f",
   "metadata": {},
   "outputs": [
    {
     "data": {
      "text/html": [
       "<div>\n",
       "<style scoped>\n",
       "    .dataframe tbody tr th:only-of-type {\n",
       "        vertical-align: middle;\n",
       "    }\n",
       "\n",
       "    .dataframe tbody tr th {\n",
       "        vertical-align: top;\n",
       "    }\n",
       "\n",
       "    .dataframe thead th {\n",
       "        text-align: right;\n",
       "    }\n",
       "</style>\n",
       "<table border=\"1\" class=\"dataframe\">\n",
       "  <thead>\n",
       "    <tr style=\"text-align: right;\">\n",
       "      <th></th>\n",
       "      <th>age</th>\n",
       "      <th>sex</th>\n",
       "      <th>bmi</th>\n",
       "      <th>children</th>\n",
       "      <th>smoker</th>\n",
       "      <th>charges</th>\n",
       "      <th>BMI_Normal</th>\n",
       "      <th>BMI_Under_Weight</th>\n",
       "      <th>BMI_obase</th>\n",
       "      <th>BMI_over_weight</th>\n",
       "    </tr>\n",
       "  </thead>\n",
       "  <tbody>\n",
       "    <tr>\n",
       "      <th>0</th>\n",
       "      <td>19</td>\n",
       "      <td>0</td>\n",
       "      <td>27.900</td>\n",
       "      <td>0</td>\n",
       "      <td>1</td>\n",
       "      <td>16884.92400</td>\n",
       "      <td>0</td>\n",
       "      <td>0</td>\n",
       "      <td>0</td>\n",
       "      <td>1</td>\n",
       "    </tr>\n",
       "    <tr>\n",
       "      <th>1</th>\n",
       "      <td>18</td>\n",
       "      <td>1</td>\n",
       "      <td>33.770</td>\n",
       "      <td>1</td>\n",
       "      <td>0</td>\n",
       "      <td>1725.55230</td>\n",
       "      <td>0</td>\n",
       "      <td>0</td>\n",
       "      <td>1</td>\n",
       "      <td>0</td>\n",
       "    </tr>\n",
       "    <tr>\n",
       "      <th>2</th>\n",
       "      <td>28</td>\n",
       "      <td>1</td>\n",
       "      <td>33.000</td>\n",
       "      <td>3</td>\n",
       "      <td>0</td>\n",
       "      <td>4449.46200</td>\n",
       "      <td>0</td>\n",
       "      <td>0</td>\n",
       "      <td>1</td>\n",
       "      <td>0</td>\n",
       "    </tr>\n",
       "    <tr>\n",
       "      <th>3</th>\n",
       "      <td>33</td>\n",
       "      <td>1</td>\n",
       "      <td>22.705</td>\n",
       "      <td>0</td>\n",
       "      <td>0</td>\n",
       "      <td>21984.47061</td>\n",
       "      <td>1</td>\n",
       "      <td>0</td>\n",
       "      <td>0</td>\n",
       "      <td>0</td>\n",
       "    </tr>\n",
       "    <tr>\n",
       "      <th>4</th>\n",
       "      <td>32</td>\n",
       "      <td>1</td>\n",
       "      <td>28.880</td>\n",
       "      <td>0</td>\n",
       "      <td>0</td>\n",
       "      <td>3866.85520</td>\n",
       "      <td>0</td>\n",
       "      <td>0</td>\n",
       "      <td>0</td>\n",
       "      <td>1</td>\n",
       "    </tr>\n",
       "  </tbody>\n",
       "</table>\n",
       "</div>"
      ],
      "text/plain": [
       "   age  sex     bmi  children  smoker      charges  BMI_Normal  \\\n",
       "0   19    0  27.900         0       1  16884.92400           0   \n",
       "1   18    1  33.770         1       0   1725.55230           0   \n",
       "2   28    1  33.000         3       0   4449.46200           0   \n",
       "3   33    1  22.705         0       0  21984.47061           1   \n",
       "4   32    1  28.880         0       0   3866.85520           0   \n",
       "\n",
       "   BMI_Under_Weight  BMI_obase  BMI_over_weight  \n",
       "0                 0          0                1  \n",
       "1                 0          1                0  \n",
       "2                 0          1                0  \n",
       "3                 0          0                0  \n",
       "4                 0          0                1  "
      ]
     },
     "execution_count": 34,
     "metadata": {},
     "output_type": "execute_result"
    }
   ],
   "source": [
    "df.head()"
   ]
  },
  {
   "cell_type": "markdown",
   "id": "f9293071-098b-4842-a962-f803fb1dec20",
   "metadata": {},
   "source": [
    "# Total Number of Remove Unwanted Data -- "
   ]
  },
  {
   "cell_type": "code",
   "execution_count": 35,
   "id": "52f16bc8-2613-49ae-8941-563637bb1f32",
   "metadata": {},
   "outputs": [
    {
     "data": {
      "text/plain": [
       "204"
      ]
     },
     "execution_count": 35,
     "metadata": {},
     "output_type": "execute_result"
    }
   ],
   "source": [
    "1378-1174"
   ]
  },
  {
   "cell_type": "markdown",
   "id": "69b539f3-a2b5-4c17-bfb4-018be1c5c791",
   "metadata": {},
   "source": [
    "# Load Clena Data in Directory for Model Development -- "
   ]
  },
  {
   "cell_type": "code",
   "execution_count": 36,
   "id": "f33db4ed-d90e-404e-92a3-66561224a98e",
   "metadata": {},
   "outputs": [],
   "source": [
    "df.to_csv('Clean_Insurance_Data',index=False)"
   ]
  },
  {
   "cell_type": "code",
   "execution_count": 37,
   "id": "3e60cce3-263d-41f0-b04b-3032282248e8",
   "metadata": {},
   "outputs": [
    {
     "data": {
      "text/html": [
       "<div>\n",
       "<style scoped>\n",
       "    .dataframe tbody tr th:only-of-type {\n",
       "        vertical-align: middle;\n",
       "    }\n",
       "\n",
       "    .dataframe tbody tr th {\n",
       "        vertical-align: top;\n",
       "    }\n",
       "\n",
       "    .dataframe thead th {\n",
       "        text-align: right;\n",
       "    }\n",
       "</style>\n",
       "<table border=\"1\" class=\"dataframe\">\n",
       "  <thead>\n",
       "    <tr style=\"text-align: right;\">\n",
       "      <th></th>\n",
       "      <th>age</th>\n",
       "      <th>sex</th>\n",
       "      <th>bmi</th>\n",
       "      <th>children</th>\n",
       "      <th>smoker</th>\n",
       "      <th>charges</th>\n",
       "      <th>BMI_Normal</th>\n",
       "      <th>BMI_Under_Weight</th>\n",
       "      <th>BMI_obase</th>\n",
       "      <th>BMI_over_weight</th>\n",
       "    </tr>\n",
       "  </thead>\n",
       "  <tbody>\n",
       "    <tr>\n",
       "      <th>0</th>\n",
       "      <td>19</td>\n",
       "      <td>0</td>\n",
       "      <td>27.90</td>\n",
       "      <td>0</td>\n",
       "      <td>1</td>\n",
       "      <td>16884.9240</td>\n",
       "      <td>0</td>\n",
       "      <td>0</td>\n",
       "      <td>0</td>\n",
       "      <td>1</td>\n",
       "    </tr>\n",
       "    <tr>\n",
       "      <th>1</th>\n",
       "      <td>18</td>\n",
       "      <td>1</td>\n",
       "      <td>33.77</td>\n",
       "      <td>1</td>\n",
       "      <td>0</td>\n",
       "      <td>1725.5523</td>\n",
       "      <td>0</td>\n",
       "      <td>0</td>\n",
       "      <td>1</td>\n",
       "      <td>0</td>\n",
       "    </tr>\n",
       "  </tbody>\n",
       "</table>\n",
       "</div>"
      ],
      "text/plain": [
       "   age  sex    bmi  children  smoker     charges  BMI_Normal  \\\n",
       "0   19    0  27.90         0       1  16884.9240           0   \n",
       "1   18    1  33.77         1       0   1725.5523           0   \n",
       "\n",
       "   BMI_Under_Weight  BMI_obase  BMI_over_weight  \n",
       "0                 0          0                1  \n",
       "1                 0          1                0  "
      ]
     },
     "execution_count": 37,
     "metadata": {},
     "output_type": "execute_result"
    }
   ],
   "source": [
    "df.head(2)"
   ]
  },
  {
   "cell_type": "code",
   "execution_count": null,
   "id": "73762da1-2fc5-496d-8e6a-fef3815e9501",
   "metadata": {},
   "outputs": [],
   "source": []
  },
  {
   "cell_type": "code",
   "execution_count": null,
   "id": "e9ba4e80-21f3-44f8-9593-d0cdc94cba98",
   "metadata": {},
   "outputs": [],
   "source": []
  },
  {
   "cell_type": "code",
   "execution_count": null,
   "id": "8e2690e7-8930-4591-be2b-fbfeef4fc2ef",
   "metadata": {},
   "outputs": [],
   "source": []
  },
  {
   "cell_type": "code",
   "execution_count": null,
   "id": "802abf82-5f85-4c0a-8508-34f4ccce6269",
   "metadata": {},
   "outputs": [],
   "source": []
  },
  {
   "cell_type": "code",
   "execution_count": null,
   "id": "572c3abe-098e-4440-93d1-54f964d2a405",
   "metadata": {},
   "outputs": [],
   "source": []
  },
  {
   "cell_type": "code",
   "execution_count": null,
   "id": "63df05aa-3fae-4e14-bfd6-eeda6477c451",
   "metadata": {},
   "outputs": [],
   "source": []
  }
 ],
 "metadata": {
  "kernelspec": {
   "display_name": "Python [conda env:base] *",
   "language": "python",
   "name": "conda-base-py"
  },
  "language_info": {
   "codemirror_mode": {
    "name": "ipython",
    "version": 3
   },
   "file_extension": ".py",
   "mimetype": "text/x-python",
   "name": "python",
   "nbconvert_exporter": "python",
   "pygments_lexer": "ipython3",
   "version": "3.13.5"
  }
 },
 "nbformat": 4,
 "nbformat_minor": 5
}
